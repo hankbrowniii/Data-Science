{
 "cells": [
  {
   "cell_type": "markdown",
   "id": "4fd42c64-7c9c-40c6-bfae-5e12df4d504b",
   "metadata": {},
   "source": [
    "# Data Science Tools and Ecosystem"
   ]
  },
  {
   "cell_type": "markdown",
   "id": "518fdc5c-d88d-46be-bb30-5f14bb0b7c21",
   "metadata": {},
   "source": [
    "In this notebook, Data Science Tools and Ecosystem are summarized."
   ]
  },
  {
   "cell_type": "markdown",
   "id": "7ef5581a-e2fd-48a5-ac05-0d9342776804",
   "metadata": {},
   "source": [
    "**Objectives:**\n",
    "- Practice creating Markdown and Code cells\n",
    "- List popular languages used in Data Science\n",
    "- List commonly used libraries in Data Science\n",
    "- Table of open-source development tools\n",
    "- Examples of Python arithmetic expressions"
   ]
  },
  {
   "cell_type": "markdown",
   "id": "0dffaddf-7561-4aa8-b663-e16fd6ed4432",
   "metadata": {},
   "source": [
    "Some of the popular languages that Data Scientists use are:\n",
    "1. Python\n",
    "2. R\n",
    "3. Scala\n",
    "4. Julia"
   ]
  },
  {
   "cell_type": "markdown",
   "id": "cf144f18-e380-4ed1-a285-8db3369b7afd",
   "metadata": {},
   "source": [
    "Some of the commonly used libraries used by Data Scientists include:\n",
    "1. Pandas\n",
    "2. NumPy\n",
    "3. matplotlib\n",
    "4. ggplot2\n",
    "5. SciPy\n",
    "6. Vegas\n",
    "7. BigDL"
   ]
  },
  {
   "cell_type": "markdown",
   "id": "beb90ede-9ac0-44fa-9eec-4e2fb28a1ae0",
   "metadata": {},
   "source": [
    "| Data Science Tools |\n",
    "|--------------------|\n",
    "| Jupyter |\n",
    "| RStudio |\n",
    "| Spyder |"
   ]
  },
  {
   "cell_type": "markdown",
   "id": "7530fbf1-91f3-45c3-ba15-e17504301024",
   "metadata": {},
   "source": [
    "### Below are a few examples of evaluating arithmetic expressions in Python:"
   ]
  },
  {
   "cell_type": "code",
   "execution_count": 1,
   "id": "6031148e-f187-454f-9e2a-5ab276f2e74c",
   "metadata": {},
   "outputs": [
    {
     "data": {
      "text/plain": [
       "17"
      ]
     },
     "execution_count": 1,
     "metadata": {},
     "output_type": "execute_result"
    }
   ],
   "source": [
    "## This a simple arithmetic expression to mutiply then add integers.\n",
    "(3*4)+5"
   ]
  },
  {
   "cell_type": "code",
   "execution_count": 3,
   "id": "0d1be74c-5ff1-4cf1-af85-ba1378c7be12",
   "metadata": {},
   "outputs": [
    {
     "data": {
      "text/plain": [
       "3.3333333333333335"
      ]
     },
     "execution_count": 3,
     "metadata": {},
     "output_type": "execute_result"
    }
   ],
   "source": [
    "## This will convert 200 minutes to hours by dividing by 60\n",
    "200/60"
   ]
  },
  {
   "cell_type": "markdown",
   "id": "5601e99a-04c0-4226-9d73-b8d658747318",
   "metadata": {},
   "source": [
    "## Author\n",
    "Hank Brown"
   ]
  }
 ],
 "metadata": {
  "kernelspec": {
   "display_name": "Python 3 (ipykernel)",
   "language": "python",
   "name": "python3"
  },
  "language_info": {
   "codemirror_mode": {
    "name": "ipython",
    "version": 3
   },
   "file_extension": ".py",
   "mimetype": "text/x-python",
   "name": "python",
   "nbconvert_exporter": "python",
   "pygments_lexer": "ipython3",
   "version": "3.11.4"
  }
 },
 "nbformat": 4,
 "nbformat_minor": 5
}
